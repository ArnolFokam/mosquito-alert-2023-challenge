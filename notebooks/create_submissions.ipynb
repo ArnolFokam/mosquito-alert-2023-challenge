{
 "cells": [
  {
   "cell_type": "code",
   "execution_count": 1,
   "metadata": {},
   "outputs": [],
   "source": [
    "import os"
   ]
  },
  {
   "cell_type": "code",
   "execution_count": 2,
   "metadata": {},
   "outputs": [],
   "source": [
    "test_image_dir=\"../data/test_images_phase1/\"\n",
    "test_csv=\"../data/test_phase1_v2.csv\""
   ]
  },
  {
   "cell_type": "code",
   "execution_count": 3,
   "metadata": {},
   "outputs": [
    {
     "data": {
      "text/html": [
       "<div>\n",
       "<style scoped>\n",
       "    .dataframe tbody tr th:only-of-type {\n",
       "        vertical-align: middle;\n",
       "    }\n",
       "\n",
       "    .dataframe tbody tr th {\n",
       "        vertical-align: top;\n",
       "    }\n",
       "\n",
       "    .dataframe thead th {\n",
       "        text-align: right;\n",
       "    }\n",
       "</style>\n",
       "<table border=\"1\" class=\"dataframe\">\n",
       "  <thead>\n",
       "    <tr style=\"text-align: right;\">\n",
       "      <th></th>\n",
       "      <th>img_fName</th>\n",
       "      <th>img_w</th>\n",
       "      <th>img_h</th>\n",
       "    </tr>\n",
       "  </thead>\n",
       "  <tbody>\n",
       "    <tr>\n",
       "      <th>0</th>\n",
       "      <td>ce8f0ede-4366-45b9-bdd4-959e17c7618c.jpeg</td>\n",
       "      <td>1599</td>\n",
       "      <td>965</td>\n",
       "    </tr>\n",
       "    <tr>\n",
       "      <th>1</th>\n",
       "      <td>f207780c-0d0a-4d41-bd95-92ca53ff81a3.jpeg</td>\n",
       "      <td>822</td>\n",
       "      <td>861</td>\n",
       "    </tr>\n",
       "    <tr>\n",
       "      <th>2</th>\n",
       "      <td>99c6b7f9-dbea-4635-a18d-cde16b125515.jpeg</td>\n",
       "      <td>720</td>\n",
       "      <td>1280</td>\n",
       "    </tr>\n",
       "    <tr>\n",
       "      <th>3</th>\n",
       "      <td>662b4405-3600-41b9-9812-451b6d9df322.jpeg</td>\n",
       "      <td>3024</td>\n",
       "      <td>4032</td>\n",
       "    </tr>\n",
       "    <tr>\n",
       "      <th>4</th>\n",
       "      <td>1de14b6b-6781-4a24-ae5e-f760e865c758.jpeg</td>\n",
       "      <td>1242</td>\n",
       "      <td>2208</td>\n",
       "    </tr>\n",
       "  </tbody>\n",
       "</table>\n",
       "</div>"
      ],
      "text/plain": [
       "                                   img_fName  img_w  img_h\n",
       "0  ce8f0ede-4366-45b9-bdd4-959e17c7618c.jpeg   1599    965\n",
       "1  f207780c-0d0a-4d41-bd95-92ca53ff81a3.jpeg    822    861\n",
       "2  99c6b7f9-dbea-4635-a18d-cde16b125515.jpeg    720   1280\n",
       "3  662b4405-3600-41b9-9812-451b6d9df322.jpeg   3024   4032\n",
       "4  1de14b6b-6781-4a24-ae5e-f760e865c758.jpeg   1242   2208"
      ]
     },
     "execution_count": 3,
     "metadata": {},
     "output_type": "execute_result"
    }
   ],
   "source": [
    "import pandas as pd\n",
    "\n",
    "submission_df = pd.read_csv(test_csv)\n",
    "submission_df.head()"
   ]
  },
  {
   "cell_type": "code",
   "execution_count": 4,
   "metadata": {},
   "outputs": [],
   "source": [
    "from hydra import compose, initialize, core as hydra_core\n",
    "\n",
    "hydra_core.global_hydra.GlobalHydra.instance().clear()\n",
    "initialize(config_path=\"../exps\", version_base=None)\n",
    "cfg = compose(config_name=\"submission\")\n"
   ]
  },
  {
   "cell_type": "code",
   "execution_count": 5,
   "metadata": {},
   "outputs": [],
   "source": [
    "import sys\n",
    "\n",
    "sys.path.append(\"../\")"
   ]
  },
  {
   "cell_type": "code",
   "execution_count": 6,
   "metadata": {},
   "outputs": [
    {
     "data": {
      "text/plain": [
       "<All keys matched successfully>"
      ]
     },
     "execution_count": 6,
     "metadata": {},
     "output_type": "execute_result"
    }
   ],
   "source": [
    "import torch\n",
    "from mosquito.models import models\n",
    "\n",
    "model = models[cfg.model_name](cfg, num_classes=6)\n",
    "model.load_state_dict(torch.load(cfg.model_path, map_location=torch.device(\"cpu\")))"
   ]
  },
  {
   "cell_type": "code",
   "execution_count": 7,
   "metadata": {},
   "outputs": [],
   "source": [
    "test_images = [os.path.join(test_image_dir, x) for x in submission_df[\"img_fName\"].values]\n",
    "test_ids = list(range(len(test_images)))"
   ]
  },
  {
   "cell_type": "code",
   "execution_count": 14,
   "metadata": {},
   "outputs": [
    {
     "data": {
      "application/vnd.jupyter.widget-view+json": {
       "model_id": "7f38b5617697411ca4ff03bbc8d38503",
       "version_major": 2,
       "version_minor": 0
      },
      "text/plain": [
       "  0%|          | 0/2676 [00:00<?, ?it/s]"
      ]
     },
     "metadata": {},
     "output_type": "display_data"
    }
   ],
   "source": [
    "import PIL.Image\n",
    "from tqdm.notebook import tqdm_notebook\n",
    "import albumentations as A\n",
    "import numpy as np\n",
    "import albumentations.pytorch\n",
    "\n",
    "from mosquito.datasets import datasets\n",
    "\n",
    "bboxes_preds = []\n",
    "labels_preds = []\n",
    "\n",
    "model.eval()\n",
    "\n",
    "dataset_cls = datasets[cfg.dataset_name]\n",
    "\n",
    "for image_id, img  in tqdm_notebook(list(zip(test_ids, test_images))):\n",
    "    with torch.no_grad():\n",
    "        image = np.array(PIL.Image.open(img).convert(\"RGB\"))\n",
    "        imgs = A.Compose([\n",
    "            # A.Resize(width=cfg.input_size, height=cfg.input_size),\n",
    "            albumentations.pytorch.ToTensorV2()\n",
    "        ])(image=image)[\"image\"].float().unsqueeze(0)  / 255.\n",
    "        outputs = model.model(imgs)\n",
    "        outputs = [{k: v.to(torch.device('cpu')) for k, v in t.items()} for t in outputs]\n",
    "        outputs = {0: outputs[0]}\n",
    "        res = model.postprocess(outputs)\n",
    "        \n",
    "        # append results\n",
    "        bboxes_preds.append(res[0][\"boxes\"].numpy())\n",
    "        labels_preds.append(dataset_cls.integer_to_word[res[0][\"labels\"].item()])"
   ]
  },
  {
   "cell_type": "code",
   "execution_count": 15,
   "metadata": {},
   "outputs": [
    {
     "data": {
      "text/html": [
       "<div>\n",
       "<style scoped>\n",
       "    .dataframe tbody tr th:only-of-type {\n",
       "        vertical-align: middle;\n",
       "    }\n",
       "\n",
       "    .dataframe tbody tr th {\n",
       "        vertical-align: top;\n",
       "    }\n",
       "\n",
       "    .dataframe thead th {\n",
       "        text-align: right;\n",
       "    }\n",
       "</style>\n",
       "<table border=\"1\" class=\"dataframe\">\n",
       "  <thead>\n",
       "    <tr style=\"text-align: right;\">\n",
       "      <th></th>\n",
       "      <th>img_fName</th>\n",
       "      <th>bbx_xtl</th>\n",
       "      <th>bbx_ytl</th>\n",
       "      <th>bbx_xbr</th>\n",
       "      <th>bbx_ybr</th>\n",
       "      <th>class_label</th>\n",
       "    </tr>\n",
       "  </thead>\n",
       "  <tbody>\n",
       "    <tr>\n",
       "      <th>0</th>\n",
       "      <td>ce8f0ede-4366-45b9-bdd4-959e17c7618c.jpeg</td>\n",
       "      <td>550.203064</td>\n",
       "      <td>275.218811</td>\n",
       "      <td>1164.874512</td>\n",
       "      <td>762.542603</td>\n",
       "      <td>culex</td>\n",
       "    </tr>\n",
       "    <tr>\n",
       "      <th>1</th>\n",
       "      <td>f207780c-0d0a-4d41-bd95-92ca53ff81a3.jpeg</td>\n",
       "      <td>19.554203</td>\n",
       "      <td>53.384151</td>\n",
       "      <td>750.967712</td>\n",
       "      <td>859.897278</td>\n",
       "      <td>culex</td>\n",
       "    </tr>\n",
       "    <tr>\n",
       "      <th>2</th>\n",
       "      <td>99c6b7f9-dbea-4635-a18d-cde16b125515.jpeg</td>\n",
       "      <td>259.021973</td>\n",
       "      <td>571.430786</td>\n",
       "      <td>558.624817</td>\n",
       "      <td>807.684326</td>\n",
       "      <td>albopictus</td>\n",
       "    </tr>\n",
       "    <tr>\n",
       "      <th>3</th>\n",
       "      <td>662b4405-3600-41b9-9812-451b6d9df322.jpeg</td>\n",
       "      <td>1677.877319</td>\n",
       "      <td>1600.402832</td>\n",
       "      <td>2234.702637</td>\n",
       "      <td>2227.840576</td>\n",
       "      <td>culex</td>\n",
       "    </tr>\n",
       "    <tr>\n",
       "      <th>4</th>\n",
       "      <td>1de14b6b-6781-4a24-ae5e-f760e865c758.jpeg</td>\n",
       "      <td>400.784973</td>\n",
       "      <td>750.484192</td>\n",
       "      <td>832.935730</td>\n",
       "      <td>1056.553833</td>\n",
       "      <td>albopictus</td>\n",
       "    </tr>\n",
       "  </tbody>\n",
       "</table>\n",
       "</div>"
      ],
      "text/plain": [
       "                                   img_fName      bbx_xtl      bbx_ytl  \\\n",
       "0  ce8f0ede-4366-45b9-bdd4-959e17c7618c.jpeg   550.203064   275.218811   \n",
       "1  f207780c-0d0a-4d41-bd95-92ca53ff81a3.jpeg    19.554203    53.384151   \n",
       "2  99c6b7f9-dbea-4635-a18d-cde16b125515.jpeg   259.021973   571.430786   \n",
       "3  662b4405-3600-41b9-9812-451b6d9df322.jpeg  1677.877319  1600.402832   \n",
       "4  1de14b6b-6781-4a24-ae5e-f760e865c758.jpeg   400.784973   750.484192   \n",
       "\n",
       "       bbx_xbr      bbx_ybr class_label  \n",
       "0  1164.874512   762.542603       culex  \n",
       "1   750.967712   859.897278       culex  \n",
       "2   558.624817   807.684326  albopictus  \n",
       "3  2234.702637  2227.840576       culex  \n",
       "4   832.935730  1056.553833  albopictus  "
      ]
     },
     "execution_count": 15,
     "metadata": {},
     "output_type": "execute_result"
    }
   ],
   "source": [
    "predictions = [list(bboxes_preds[i][0]) + [labels_preds[i]] for i in range(len(test_images))]\n",
    "predictions_df = pd.DataFrame(predictions, columns=[\"bbx_xtl\", \"bbx_ytl\", \"bbx_xbr\", \"bbx_ybr\", \"class_label\"])\n",
    "\n",
    "submission_df = pd.concat([submission_df, predictions_df], axis=1)\n",
    "submission_df.drop(columns=[\"img_w\", \"img_h\"], inplace=True)\n",
    "\n",
    "submission_df.head()"
   ]
  },
  {
   "cell_type": "code",
   "execution_count": 16,
   "metadata": {},
   "outputs": [],
   "source": [
    "submission_df.to_csv(\"../submissions/submission_baseline.csv\", index=False)"
   ]
  },
  {
   "cell_type": "code",
   "execution_count": 17,
   "metadata": {},
   "outputs": [
    {
     "name": "stdout",
     "output_type": "stream",
     "text": [
      "\u001b[31mAn unexpected error occured!\u001b[0m\n",
      "cannot import name 'appengine' from 'urllib3.contrib' (/mnt/data/home/manuel/anaconda3/envs/mos/lib/python3.9/site-packages/urllib3/contrib/__init__.py)\n",
      "To get more information, you can run this command with -v.\n",
      "To increase level of verbosity, you can go upto -vvvvv\n"
     ]
    }
   ],
   "source": [
    "!aicrowd submission create -c mosquitoalert-challenge-2023 -f \"../submissions/submission_baseline.csv\""
   ]
  },
  {
   "cell_type": "code",
   "execution_count": null,
   "metadata": {},
   "outputs": [],
   "source": []
  }
 ],
 "metadata": {
  "kernelspec": {
   "display_name": "mos",
   "language": "python",
   "name": "python3"
  },
  "language_info": {
   "codemirror_mode": {
    "name": "ipython",
    "version": 3
   },
   "file_extension": ".py",
   "mimetype": "text/x-python",
   "name": "python",
   "nbconvert_exporter": "python",
   "pygments_lexer": "ipython3",
   "version": "3.9.16"
  },
  "orig_nbformat": 4
 },
 "nbformat": 4,
 "nbformat_minor": 2
}
